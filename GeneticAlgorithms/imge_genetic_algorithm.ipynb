{
  "nbformat": 4,
  "nbformat_minor": 0,
  "metadata": {
    "colab": {
      "name": "imge_genetic_algorithm.ipynb",
      "provenance": [],
      "authorship_tag": "ABX9TyNlObGhGApNqmy2m0lkGUjV"
    },
    "kernelspec": {
      "name": "python3",
      "display_name": "Python 3"
    },
    "language_info": {
      "name": "python"
    }
  },
  "cells": [
    {
      "cell_type": "markdown",
      "source": [
        "# 遺伝的アルゴリズム"
      ],
      "metadata": {
        "id": "6V0dXNAKxpeJ"
      }
    },
    {
      "cell_type": "markdown",
      "source": [
        "遺伝的アルゴリズムによるビット絵生成"
      ],
      "metadata": {
        "id": "Z3QOJlwhymMp"
      }
    },
    {
      "cell_type": "code",
      "execution_count": null,
      "metadata": {
        "id": "iPCkdzTkxkyM"
      },
      "outputs": [],
      "source": [
        "import numpy as np\n",
        "from matplotlib import pyplot as plt"
      ]
    },
    {
      "cell_type": "code",
      "source": [
        "np.random.seed()\n",
        "N = 10\n",
        "size = 6\n",
        "solutions = [np.random.randint(0,2,size = size * size //2)\n",
        "              for _ in range(N)]"
      ],
      "metadata": {
        "id": "_vwwLJZhx3Dq"
      },
      "execution_count": null,
      "outputs": []
    },
    {
      "cell_type": "code",
      "source": [
        "def represent(solution):\n",
        "  return np.hstack((\n",
        "      solution.reshape(size,size // 2),\n",
        "      solution.reshape(size,size // 2)[:, :: -1]\n",
        "  ))"
      ],
      "metadata": {
        "id": "dt_m2OwLx5Xi"
      },
      "execution_count": null,
      "outputs": []
    },
    {
      "cell_type": "code",
      "source": [
        "def visualize(solutions):\n",
        "  rows = 2\n",
        "  cols = N // rows\n",
        "  i = 0\n",
        "  for row in range(rows):\n",
        "    for col in range(cols):\n",
        "      plt.subplot(rows, cols, i + 1)\n",
        "      plt.imshow(represent(solutions[i]),cmap = \"gray\")\n",
        "      plt.axis('off')\n",
        "      plt.title(i)\n",
        "      i += 1"
      ],
      "metadata": {
        "id": "t4ggkmy2x6hz"
      },
      "execution_count": null,
      "outputs": []
    },
    {
      "cell_type": "code",
      "source": [
        "visualize(solutions)\n",
        "plt.show()"
      ],
      "metadata": {
        "colab": {
          "base_uri": "https://localhost:8080/",
          "height": 223
        },
        "id": "AViRuxklx7uX",
        "outputId": "2ca0520d-0ba3-437b-b41c-c74f2a5f8d53"
      },
      "execution_count": null,
      "outputs": [
        {
          "output_type": "display_data",
          "data": {
            "text/plain": [
              "<Figure size 432x288 with 10 Axes>"
            ],
            "image/png": "[encoded data removed]"
          },
          "metadata": {
            "needs_background": "light"
          }
        }
      ]
    },
    {
      "cell_type": "code",
      "source": [
        ""
      ],
      "metadata": {
        "id": "Tilsl-6Yx80M"
      },
      "execution_count": null,
      "outputs": []
    }
  ]
}